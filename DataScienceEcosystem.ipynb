{
 "cells": [
  {
   "cell_type": "markdown",
   "id": "124c865f-344e-4fbe-80de-91258104331a",
   "metadata": {},
   "source": [
    "# Data Science Tools and Ecosystem"
   ]
  },
  {
   "cell_type": "markdown",
   "id": "0f5684bc-8070-4177-a59a-79fe52ac4ce0",
   "metadata": {},
   "source": [
    "***In this notebook, Data Science Tools and Ecosystem are summarized.***"
   ]
  },
  {
   "cell_type": "markdown",
   "id": "93fbe077-5aaf-4d49-be79-efebc16e128a",
   "metadata": {},
   "source": [
    "Some of the popular languages that Data Scientists use are:\n",
    "    1.Python\n",
    "    2.R\n",
    "    3.Java\n",
    "    4.Scala"
   ]
  },
  {
   "cell_type": "markdown",
   "id": "15f562f2-bc70-45d7-a373-fbc8aa98ccd3",
   "metadata": {},
   "source": [
    "Some of the commonly used libraries used by Data Scientists include:\n",
    "    1. Numpy\n",
    "    2. Pandas\n",
    "    3. Matplotlip"
   ]
  },
  {
   "cell_type": "markdown",
   "id": "ee78f5ad-389c-43a9-87c7-5494a9f6e6c7",
   "metadata": {},
   "source": [
    "# Data Science Tools \n",
    "\n",
    "Jupyter \n",
    "____________\n",
    "Tensor Flow\n",
    "_____________ \n",
    "Apache Sparks "
   ]
  },
  {
   "cell_type": "markdown",
   "id": "71d226ac-a21f-456e-8cb7-e624e8e3e922",
   "metadata": {},
   "source": [
    "### Below are a few examples of evaluating arithmetic expressions in Python"
   ]
  },
  {
   "cell_type": "code",
   "execution_count": 1,
   "id": "cf09b8c8-19d6-45be-a216-cfd19c6949ac",
   "metadata": {
    "tags": []
   },
   "outputs": [
    {
     "data": {
      "text/plain": [
       "17"
      ]
     },
     "execution_count": 1,
     "metadata": {},
     "output_type": "execute_result"
    }
   ],
   "source": [
    "(3*4)+5\n"
   ]
  },
  {
   "cell_type": "code",
   "execution_count": 4,
   "id": "7e049fc9-da31-414e-aeff-733a0c9ae2f8",
   "metadata": {
    "tags": []
   },
   "outputs": [
    {
     "ename": "SyntaxError",
     "evalue": "invalid syntax (2644835973.py, line 1)",
     "output_type": "error",
     "traceback": [
      "\u001b[0;36m  File \u001b[0;32m\"/tmp/ipykernel_72/2644835973.py\"\u001b[0;36m, line \u001b[0;32m1\u001b[0m\n\u001b[0;31m    // This will convert 200 minutes to hours by diving by 60. //\u001b[0m\n\u001b[0m     ^\u001b[0m\n\u001b[0;31mSyntaxError\u001b[0m\u001b[0;31m:\u001b[0m invalid syntax\n"
     ]
    }
   ],
   "source": [
    "// This will convert 200 minutes to hours by diving by 60. //\n"
   ]
  },
  {
   "cell_type": "code",
   "execution_count": 5,
   "id": "dfb1f2db-ba24-4064-9e55-aaecf731b279",
   "metadata": {
    "tags": []
   },
   "outputs": [],
   "source": [
    "# This will convert 200 minutes to hours by diving by 60.\n"
   ]
  },
  {
   "cell_type": "code",
   "execution_count": 8,
   "id": "b3a1e851-b418-4c57-aa4a-421877835af6",
   "metadata": {
    "tags": []
   },
   "outputs": [
    {
     "name": "stdout",
     "output_type": "stream",
     "text": [
      "3.3333333333333335\n"
     ]
    }
   ],
   "source": [
    "# This will convert 200 minutes to hours by diving by 60.\n",
    "R = 200/60\n",
    "print(R)\n"
   ]
  },
  {
   "cell_type": "markdown",
   "id": "97e0c812-877f-4507-ad32-a8283e2498d6",
   "metadata": {},
   "source": [
    "**List popular languages for Data Science**\n",
    "\n",
    "**Objectives:-**\n",
    "* Identify the criteria and roles for determining the language to learn.\n",
    "* Identify the users and benefits of Python.\n",
    "* Identify the users and uses of the R language.\n",
    "* Define SQL elements and list their benefits.\n",
    "* Review languages such as Java, Scala, C++, JavaScript, and Julia.\n"
   ]
  },
  {
   "cell_type": "markdown",
   "id": "3e59a387-0203-4cfe-ab21-b0919bed842d",
   "metadata": {},
   "source": [
    "## Author\n",
    "Rahul Raju Yadav"
   ]
  },
  {
   "cell_type": "code",
   "execution_count": null,
   "id": "2295eb22-abac-4575-a567-8e56a601cf12",
   "metadata": {},
   "outputs": [],
   "source": []
  }
 ],
 "metadata": {
  "kernelspec": {
   "display_name": "Python",
   "language": "python",
   "name": "conda-env-python-py"
  },
  "language_info": {
   "codemirror_mode": {
    "name": "ipython",
    "version": 3
   },
   "file_extension": ".py",
   "mimetype": "text/x-python",
   "name": "python",
   "nbconvert_exporter": "python",
   "pygments_lexer": "ipython3",
   "version": "3.7.12"
  }
 },
 "nbformat": 4,
 "nbformat_minor": 5
}
